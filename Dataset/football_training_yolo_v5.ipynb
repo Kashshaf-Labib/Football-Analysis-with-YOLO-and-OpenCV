{
 "cells": [
  {
   "cell_type": "code",
   "execution_count": 1,
   "metadata": {},
   "outputs": [
    {
     "name": "stdout",
     "output_type": "stream",
     "text": [
      "Requirement already satisfied: ultralytics in e:\\machine learning project\\football analysis with yolo\\venv\\lib\\site-packages (8.3.90)\n",
      "Requirement already satisfied: numpy<=2.1.1,>=1.23.0 in e:\\machine learning project\\football analysis with yolo\\venv\\lib\\site-packages (from ultralytics) (2.1.1)\n",
      "Requirement already satisfied: matplotlib>=3.3.0 in e:\\machine learning project\\football analysis with yolo\\venv\\lib\\site-packages (from ultralytics) (3.10.1)\n",
      "Requirement already satisfied: opencv-python>=4.6.0 in e:\\machine learning project\\football analysis with yolo\\venv\\lib\\site-packages (from ultralytics) (4.11.0.86)\n",
      "Requirement already satisfied: pillow>=7.1.2 in e:\\machine learning project\\football analysis with yolo\\venv\\lib\\site-packages (from ultralytics) (11.1.0)\n",
      "Requirement already satisfied: pyyaml>=5.3.1 in e:\\machine learning project\\football analysis with yolo\\venv\\lib\\site-packages (from ultralytics) (6.0.2)\n",
      "Requirement already satisfied: requests>=2.23.0 in e:\\machine learning project\\football analysis with yolo\\venv\\lib\\site-packages (from ultralytics) (2.32.3)\n",
      "Requirement already satisfied: scipy>=1.4.1 in e:\\machine learning project\\football analysis with yolo\\venv\\lib\\site-packages (from ultralytics) (1.15.2)\n",
      "Requirement already satisfied: torch>=1.8.0 in e:\\machine learning project\\football analysis with yolo\\venv\\lib\\site-packages (from ultralytics) (2.6.0)\n",
      "Requirement already satisfied: torchvision>=0.9.0 in e:\\machine learning project\\football analysis with yolo\\venv\\lib\\site-packages (from ultralytics) (0.21.0)\n",
      "Requirement already satisfied: tqdm>=4.64.0 in e:\\machine learning project\\football analysis with yolo\\venv\\lib\\site-packages (from ultralytics) (4.67.1)\n",
      "Requirement already satisfied: psutil in e:\\machine learning project\\football analysis with yolo\\venv\\lib\\site-packages (from ultralytics) (7.0.0)\n",
      "Requirement already satisfied: py-cpuinfo in e:\\machine learning project\\football analysis with yolo\\venv\\lib\\site-packages (from ultralytics) (9.0.0)\n",
      "Requirement already satisfied: pandas>=1.1.4 in e:\\machine learning project\\football analysis with yolo\\venv\\lib\\site-packages (from ultralytics) (2.2.3)\n",
      "Requirement already satisfied: seaborn>=0.11.0 in e:\\machine learning project\\football analysis with yolo\\venv\\lib\\site-packages (from ultralytics) (0.13.2)\n",
      "Requirement already satisfied: ultralytics-thop>=2.0.0 in e:\\machine learning project\\football analysis with yolo\\venv\\lib\\site-packages (from ultralytics) (2.0.14)\n",
      "Requirement already satisfied: contourpy>=1.0.1 in e:\\machine learning project\\football analysis with yolo\\venv\\lib\\site-packages (from matplotlib>=3.3.0->ultralytics) (1.3.1)\n",
      "Requirement already satisfied: cycler>=0.10 in e:\\machine learning project\\football analysis with yolo\\venv\\lib\\site-packages (from matplotlib>=3.3.0->ultralytics) (0.12.1)\n",
      "Requirement already satisfied: fonttools>=4.22.0 in e:\\machine learning project\\football analysis with yolo\\venv\\lib\\site-packages (from matplotlib>=3.3.0->ultralytics) (4.56.0)\n",
      "Requirement already satisfied: kiwisolver>=1.3.1 in e:\\machine learning project\\football analysis with yolo\\venv\\lib\\site-packages (from matplotlib>=3.3.0->ultralytics) (1.4.8)\n",
      "Requirement already satisfied: packaging>=20.0 in e:\\machine learning project\\football analysis with yolo\\venv\\lib\\site-packages (from matplotlib>=3.3.0->ultralytics) (24.2)\n",
      "Requirement already satisfied: pyparsing>=2.3.1 in e:\\machine learning project\\football analysis with yolo\\venv\\lib\\site-packages (from matplotlib>=3.3.0->ultralytics) (3.2.1)\n",
      "Requirement already satisfied: python-dateutil>=2.7 in e:\\machine learning project\\football analysis with yolo\\venv\\lib\\site-packages (from matplotlib>=3.3.0->ultralytics) (2.9.0.post0)\n",
      "Requirement already satisfied: pytz>=2020.1 in e:\\machine learning project\\football analysis with yolo\\venv\\lib\\site-packages (from pandas>=1.1.4->ultralytics) (2025.1)\n",
      "Requirement already satisfied: tzdata>=2022.7 in e:\\machine learning project\\football analysis with yolo\\venv\\lib\\site-packages (from pandas>=1.1.4->ultralytics) (2025.1)\n",
      "Requirement already satisfied: charset-normalizer<4,>=2 in e:\\machine learning project\\football analysis with yolo\\venv\\lib\\site-packages (from requests>=2.23.0->ultralytics) (3.4.1)\n",
      "Requirement already satisfied: idna<4,>=2.5 in e:\\machine learning project\\football analysis with yolo\\venv\\lib\\site-packages (from requests>=2.23.0->ultralytics) (3.10)\n",
      "Requirement already satisfied: urllib3<3,>=1.21.1 in e:\\machine learning project\\football analysis with yolo\\venv\\lib\\site-packages (from requests>=2.23.0->ultralytics) (2.3.0)\n",
      "Requirement already satisfied: certifi>=2017.4.17 in e:\\machine learning project\\football analysis with yolo\\venv\\lib\\site-packages (from requests>=2.23.0->ultralytics) (2025.1.31)\n",
      "Requirement already satisfied: filelock in e:\\machine learning project\\football analysis with yolo\\venv\\lib\\site-packages (from torch>=1.8.0->ultralytics) (3.18.0)\n",
      "Requirement already satisfied: typing-extensions>=4.10.0 in e:\\machine learning project\\football analysis with yolo\\venv\\lib\\site-packages (from torch>=1.8.0->ultralytics) (4.12.2)\n",
      "Requirement already satisfied: networkx in e:\\machine learning project\\football analysis with yolo\\venv\\lib\\site-packages (from torch>=1.8.0->ultralytics) (3.4.2)\n",
      "Requirement already satisfied: jinja2 in e:\\machine learning project\\football analysis with yolo\\venv\\lib\\site-packages (from torch>=1.8.0->ultralytics) (3.1.6)\n",
      "Requirement already satisfied: fsspec in e:\\machine learning project\\football analysis with yolo\\venv\\lib\\site-packages (from torch>=1.8.0->ultralytics) (2025.3.0)\n",
      "Requirement already satisfied: setuptools in e:\\machine learning project\\football analysis with yolo\\venv\\lib\\site-packages (from torch>=1.8.0->ultralytics) (76.0.0)\n",
      "Requirement already satisfied: sympy==1.13.1 in e:\\machine learning project\\football analysis with yolo\\venv\\lib\\site-packages (from torch>=1.8.0->ultralytics) (1.13.1)\n",
      "Requirement already satisfied: mpmath<1.4,>=1.1.0 in e:\\machine learning project\\football analysis with yolo\\venv\\lib\\site-packages (from sympy==1.13.1->torch>=1.8.0->ultralytics) (1.3.0)\n",
      "Requirement already satisfied: colorama in e:\\machine learning project\\football analysis with yolo\\venv\\lib\\site-packages (from tqdm>=4.64.0->ultralytics) (0.4.6)\n",
      "Requirement already satisfied: six>=1.5 in e:\\machine learning project\\football analysis with yolo\\venv\\lib\\site-packages (from python-dateutil>=2.7->matplotlib>=3.3.0->ultralytics) (1.17.0)\n",
      "Requirement already satisfied: MarkupSafe>=2.0 in e:\\machine learning project\\football analysis with yolo\\venv\\lib\\site-packages (from jinja2->torch>=1.8.0->ultralytics) (3.0.2)\n"
     ]
    },
    {
     "name": "stderr",
     "output_type": "stream",
     "text": [
      "\n",
      "[notice] A new release of pip is available: 24.3.1 -> 25.0.1\n",
      "[notice] To update, run: python.exe -m pip install --upgrade pip\n"
     ]
    },
    {
     "name": "stdout",
     "output_type": "stream",
     "text": [
      "Collecting roboflow\n",
      "  Downloading roboflow-1.1.58-py3-none-any.whl.metadata (9.7 kB)\n",
      "Requirement already satisfied: certifi in e:\\machine learning project\\football analysis with yolo\\venv\\lib\\site-packages (from roboflow) (2025.1.31)\n",
      "Collecting idna==3.7 (from roboflow)\n",
      "  Downloading idna-3.7-py3-none-any.whl.metadata (9.9 kB)\n",
      "Requirement already satisfied: cycler in e:\\machine learning project\\football analysis with yolo\\venv\\lib\\site-packages (from roboflow) (0.12.1)\n",
      "Requirement already satisfied: kiwisolver>=1.3.1 in e:\\machine learning project\\football analysis with yolo\\venv\\lib\\site-packages (from roboflow) (1.4.8)\n",
      "Requirement already satisfied: matplotlib in e:\\machine learning project\\football analysis with yolo\\venv\\lib\\site-packages (from roboflow) (3.10.1)\n",
      "Requirement already satisfied: numpy>=1.18.5 in e:\\machine learning project\\football analysis with yolo\\venv\\lib\\site-packages (from roboflow) (2.1.1)\n",
      "Collecting opencv-python-headless==4.10.0.84 (from roboflow)\n",
      "  Downloading opencv_python_headless-4.10.0.84-cp37-abi3-win_amd64.whl.metadata (20 kB)\n",
      "Requirement already satisfied: Pillow>=7.1.2 in e:\\machine learning project\\football analysis with yolo\\venv\\lib\\site-packages (from roboflow) (11.1.0)\n",
      "Collecting pillow-heif>=0.18.0 (from roboflow)\n",
      "  Downloading pillow_heif-0.21.0-cp312-cp312-win_amd64.whl.metadata (10.0 kB)\n",
      "Requirement already satisfied: python-dateutil in e:\\machine learning project\\football analysis with yolo\\venv\\lib\\site-packages (from roboflow) (2.9.0.post0)\n",
      "Collecting python-dotenv (from roboflow)\n",
      "  Using cached python_dotenv-1.0.1-py3-none-any.whl.metadata (23 kB)\n",
      "Requirement already satisfied: requests in e:\\machine learning project\\football analysis with yolo\\venv\\lib\\site-packages (from roboflow) (2.32.3)\n",
      "Requirement already satisfied: six in e:\\machine learning project\\football analysis with yolo\\venv\\lib\\site-packages (from roboflow) (1.17.0)\n",
      "Requirement already satisfied: urllib3>=1.26.6 in e:\\machine learning project\\football analysis with yolo\\venv\\lib\\site-packages (from roboflow) (2.3.0)\n",
      "Requirement already satisfied: tqdm>=4.41.0 in e:\\machine learning project\\football analysis with yolo\\venv\\lib\\site-packages (from roboflow) (4.67.1)\n",
      "Requirement already satisfied: PyYAML>=5.3.1 in e:\\machine learning project\\football analysis with yolo\\venv\\lib\\site-packages (from roboflow) (6.0.2)\n",
      "Collecting requests-toolbelt (from roboflow)\n",
      "  Using cached requests_toolbelt-1.0.0-py2.py3-none-any.whl.metadata (14 kB)\n",
      "Collecting filetype (from roboflow)\n",
      "  Using cached filetype-1.2.0-py2.py3-none-any.whl.metadata (6.5 kB)\n",
      "Requirement already satisfied: colorama in e:\\machine learning project\\football analysis with yolo\\venv\\lib\\site-packages (from tqdm>=4.41.0->roboflow) (0.4.6)\n",
      "Requirement already satisfied: contourpy>=1.0.1 in e:\\machine learning project\\football analysis with yolo\\venv\\lib\\site-packages (from matplotlib->roboflow) (1.3.1)\n",
      "Requirement already satisfied: fonttools>=4.22.0 in e:\\machine learning project\\football analysis with yolo\\venv\\lib\\site-packages (from matplotlib->roboflow) (4.56.0)\n",
      "Requirement already satisfied: packaging>=20.0 in e:\\machine learning project\\football analysis with yolo\\venv\\lib\\site-packages (from matplotlib->roboflow) (24.2)\n",
      "Requirement already satisfied: pyparsing>=2.3.1 in e:\\machine learning project\\football analysis with yolo\\venv\\lib\\site-packages (from matplotlib->roboflow) (3.2.1)\n",
      "Requirement already satisfied: charset-normalizer<4,>=2 in e:\\machine learning project\\football analysis with yolo\\venv\\lib\\site-packages (from requests->roboflow) (3.4.1)\n",
      "Downloading roboflow-1.1.58-py3-none-any.whl (84 kB)\n",
      "Downloading idna-3.7-py3-none-any.whl (66 kB)\n",
      "Downloading opencv_python_headless-4.10.0.84-cp37-abi3-win_amd64.whl (38.8 MB)\n",
      "   ---------------------------------------- 0.0/38.8 MB ? eta -:--:--\n",
      "    --------------------------------------- 0.5/38.8 MB 5.6 MB/s eta 0:00:07\n",
      "    --------------------------------------- 0.8/38.8 MB 3.0 MB/s eta 0:00:13\n",
      "   - -------------------------------------- 1.3/38.8 MB 2.5 MB/s eta 0:00:16\n",
      "   - -------------------------------------- 1.6/38.8 MB 2.2 MB/s eta 0:00:18\n",
      "   - -------------------------------------- 1.8/38.8 MB 1.9 MB/s eta 0:00:20\n",
      "   -- ------------------------------------- 2.1/38.8 MB 1.9 MB/s eta 0:00:20\n",
      "   -- ------------------------------------- 2.6/38.8 MB 1.9 MB/s eta 0:00:19\n",
      "   --- ------------------------------------ 3.1/38.8 MB 1.9 MB/s eta 0:00:19\n",
      "   --- ------------------------------------ 3.4/38.8 MB 1.8 MB/s eta 0:00:20\n",
      "   ---- ----------------------------------- 3.9/38.8 MB 1.9 MB/s eta 0:00:19\n",
      "   ---- ----------------------------------- 4.2/38.8 MB 1.9 MB/s eta 0:00:19\n",
      "   ---- ----------------------------------- 4.7/38.8 MB 1.9 MB/s eta 0:00:19\n",
      "   ----- ---------------------------------- 5.0/38.8 MB 1.9 MB/s eta 0:00:19\n",
      "   ----- ---------------------------------- 5.5/38.8 MB 1.9 MB/s eta 0:00:18\n",
      "   ----- ---------------------------------- 5.8/38.8 MB 1.9 MB/s eta 0:00:18\n",
      "   ------ --------------------------------- 6.0/38.8 MB 1.8 MB/s eta 0:00:18\n",
      "   ------ --------------------------------- 6.6/38.8 MB 1.8 MB/s eta 0:00:18\n",
      "   ------- -------------------------------- 6.8/38.8 MB 1.8 MB/s eta 0:00:18\n",
      "   ------- -------------------------------- 6.8/38.8 MB 1.8 MB/s eta 0:00:18\n",
      "   ------- -------------------------------- 7.1/38.8 MB 1.7 MB/s eta 0:00:19\n",
      "   ------- -------------------------------- 7.6/38.8 MB 1.7 MB/s eta 0:00:19\n",
      "   -------- ------------------------------- 7.9/38.8 MB 1.7 MB/s eta 0:00:19\n",
      "   -------- ------------------------------- 8.1/38.8 MB 1.7 MB/s eta 0:00:19\n",
      "   -------- ------------------------------- 8.4/38.8 MB 1.7 MB/s eta 0:00:19\n",
      "   -------- ------------------------------- 8.7/38.8 MB 1.7 MB/s eta 0:00:19\n",
      "   --------- ------------------------------ 8.9/38.8 MB 1.6 MB/s eta 0:00:19\n",
      "   --------- ------------------------------ 9.4/38.8 MB 1.6 MB/s eta 0:00:18\n",
      "   ---------- ----------------------------- 9.7/38.8 MB 1.6 MB/s eta 0:00:18\n",
      "   ---------- ----------------------------- 10.2/38.8 MB 1.7 MB/s eta 0:00:18\n",
      "   ---------- ----------------------------- 10.5/38.8 MB 1.7 MB/s eta 0:00:18\n",
      "   ----------- ---------------------------- 11.0/38.8 MB 1.7 MB/s eta 0:00:17\n",
      "   ----------- ---------------------------- 11.3/38.8 MB 1.7 MB/s eta 0:00:17\n",
      "   ------------ --------------------------- 11.8/38.8 MB 1.7 MB/s eta 0:00:16\n",
      "   ------------ --------------------------- 12.3/38.8 MB 1.7 MB/s eta 0:00:16\n",
      "   ------------ --------------------------- 12.6/38.8 MB 1.7 MB/s eta 0:00:16\n",
      "   ------------- -------------------------- 13.1/38.8 MB 1.7 MB/s eta 0:00:15\n",
      "   -------------- ------------------------- 13.6/38.8 MB 1.7 MB/s eta 0:00:15\n",
      "   -------------- ------------------------- 14.2/38.8 MB 1.7 MB/s eta 0:00:15\n",
      "   -------------- ------------------------- 14.4/38.8 MB 1.7 MB/s eta 0:00:14\n",
      "   --------------- ------------------------ 14.9/38.8 MB 1.7 MB/s eta 0:00:14\n",
      "   --------------- ------------------------ 15.2/38.8 MB 1.7 MB/s eta 0:00:14\n",
      "   ---------------- ----------------------- 15.7/38.8 MB 1.8 MB/s eta 0:00:14\n",
      "   ---------------- ----------------------- 16.0/38.8 MB 1.8 MB/s eta 0:00:13\n",
      "   ----------------- ---------------------- 16.5/38.8 MB 1.8 MB/s eta 0:00:13\n",
      "   ----------------- ---------------------- 16.8/38.8 MB 1.8 MB/s eta 0:00:13\n",
      "   ----------------- ---------------------- 17.3/38.8 MB 1.8 MB/s eta 0:00:13\n",
      "   ------------------ --------------------- 17.6/38.8 MB 1.8 MB/s eta 0:00:13\n",
      "   ------------------ --------------------- 17.8/38.8 MB 1.8 MB/s eta 0:00:12\n",
      "   ------------------ --------------------- 18.4/38.8 MB 1.8 MB/s eta 0:00:12\n",
      "   ------------------- -------------------- 18.6/38.8 MB 1.8 MB/s eta 0:00:12\n",
      "   ------------------- -------------------- 19.1/38.8 MB 1.8 MB/s eta 0:00:12\n",
      "   -------------------- ------------------- 19.4/38.8 MB 1.8 MB/s eta 0:00:11\n",
      "   -------------------- ------------------- 19.9/38.8 MB 1.8 MB/s eta 0:00:11\n",
      "   -------------------- ------------------- 19.9/38.8 MB 1.8 MB/s eta 0:00:11\n",
      "   -------------------- ------------------- 20.2/38.8 MB 1.7 MB/s eta 0:00:11\n",
      "   -------------------- ------------------- 20.2/38.8 MB 1.7 MB/s eta 0:00:11\n",
      "   --------------------- ------------------ 20.4/38.8 MB 1.7 MB/s eta 0:00:11\n",
      "   --------------------- ------------------ 20.7/38.8 MB 1.7 MB/s eta 0:00:11\n",
      "   --------------------- ------------------ 21.0/38.8 MB 1.7 MB/s eta 0:00:11\n",
      "   --------------------- ------------------ 21.2/38.8 MB 1.7 MB/s eta 0:00:11\n",
      "   ---------------------- ----------------- 21.5/38.8 MB 1.7 MB/s eta 0:00:11\n",
      "   ---------------------- ----------------- 22.0/38.8 MB 1.7 MB/s eta 0:00:11\n",
      "   ---------------------- ----------------- 22.3/38.8 MB 1.7 MB/s eta 0:00:10\n",
      "   ----------------------- ---------------- 22.5/38.8 MB 1.7 MB/s eta 0:00:10\n",
      "   ----------------------- ---------------- 22.8/38.8 MB 1.7 MB/s eta 0:00:10\n",
      "   ------------------------ --------------- 23.3/38.8 MB 1.7 MB/s eta 0:00:10\n",
      "   ------------------------ --------------- 23.6/38.8 MB 1.7 MB/s eta 0:00:10\n",
      "   ------------------------ --------------- 24.1/38.8 MB 1.7 MB/s eta 0:00:09\n",
      "   ------------------------- -------------- 24.4/38.8 MB 1.7 MB/s eta 0:00:09\n",
      "   ------------------------- -------------- 24.9/38.8 MB 1.7 MB/s eta 0:00:09\n",
      "   ------------------------- -------------- 25.2/38.8 MB 1.7 MB/s eta 0:00:09\n",
      "   -------------------------- ------------- 25.4/38.8 MB 1.7 MB/s eta 0:00:08\n",
      "   -------------------------- ------------- 26.0/38.8 MB 1.7 MB/s eta 0:00:08\n",
      "   --------------------------- ------------ 26.2/38.8 MB 1.7 MB/s eta 0:00:08\n",
      "   --------------------------- ------------ 26.5/38.8 MB 1.7 MB/s eta 0:00:08\n",
      "   --------------------------- ------------ 27.0/38.8 MB 1.7 MB/s eta 0:00:08\n",
      "   ---------------------------- ----------- 27.3/38.8 MB 1.7 MB/s eta 0:00:07\n",
      "   ---------------------------- ----------- 27.5/38.8 MB 1.7 MB/s eta 0:00:07\n",
      "   ---------------------------- ----------- 27.8/38.8 MB 1.7 MB/s eta 0:00:07\n",
      "   ---------------------------- ----------- 28.0/38.8 MB 1.7 MB/s eta 0:00:07\n",
      "   ----------------------------- ---------- 28.3/38.8 MB 1.7 MB/s eta 0:00:07\n",
      "   ----------------------------- ---------- 28.8/38.8 MB 1.7 MB/s eta 0:00:06\n",
      "   ------------------------------ --------- 29.1/38.8 MB 1.7 MB/s eta 0:00:06\n",
      "   ------------------------------ --------- 29.4/38.8 MB 1.7 MB/s eta 0:00:06\n",
      "   ------------------------------ --------- 29.9/38.8 MB 1.7 MB/s eta 0:00:06\n",
      "   ------------------------------- -------- 30.1/38.8 MB 1.7 MB/s eta 0:00:06\n",
      "   ------------------------------- -------- 30.4/38.8 MB 1.7 MB/s eta 0:00:06\n",
      "   ------------------------------- -------- 30.9/38.8 MB 1.7 MB/s eta 0:00:05\n",
      "   -------------------------------- ------- 31.2/38.8 MB 1.7 MB/s eta 0:00:05\n",
      "   -------------------------------- ------- 31.7/38.8 MB 1.7 MB/s eta 0:00:05\n",
      "   --------------------------------- ------ 32.0/38.8 MB 1.7 MB/s eta 0:00:05\n",
      "   --------------------------------- ------ 32.5/38.8 MB 1.7 MB/s eta 0:00:04\n",
      "   ---------------------------------- ----- 33.0/38.8 MB 1.7 MB/s eta 0:00:04\n",
      "   ---------------------------------- ----- 33.6/38.8 MB 1.7 MB/s eta 0:00:04\n",
      "   ---------------------------------- ----- 33.8/38.8 MB 1.7 MB/s eta 0:00:03\n",
      "   ----------------------------------- ---- 34.3/38.8 MB 1.7 MB/s eta 0:00:03\n",
      "   ----------------------------------- ---- 34.6/38.8 MB 1.7 MB/s eta 0:00:03\n",
      "   ------------------------------------ --- 35.1/38.8 MB 1.7 MB/s eta 0:00:03\n",
      "   ------------------------------------ --- 35.4/38.8 MB 1.7 MB/s eta 0:00:02\n",
      "   ------------------------------------- -- 35.9/38.8 MB 1.7 MB/s eta 0:00:02\n",
      "   ------------------------------------- -- 36.2/38.8 MB 1.7 MB/s eta 0:00:02\n",
      "   ------------------------------------- -- 36.7/38.8 MB 1.7 MB/s eta 0:00:02\n",
      "   -------------------------------------- - 37.0/38.8 MB 1.7 MB/s eta 0:00:02\n",
      "   -------------------------------------- - 37.2/38.8 MB 1.7 MB/s eta 0:00:01\n",
      "   -------------------------------------- - 37.7/38.8 MB 1.7 MB/s eta 0:00:01\n",
      "   ---------------------------------------  38.0/38.8 MB 1.7 MB/s eta 0:00:01\n",
      "   ---------------------------------------  38.5/38.8 MB 1.7 MB/s eta 0:00:01\n",
      "   ---------------------------------------- 38.8/38.8 MB 1.7 MB/s eta 0:00:00\n",
      "Downloading pillow_heif-0.21.0-cp312-cp312-win_amd64.whl (8.7 MB)\n",
      "   ---------------------------------------- 0.0/8.7 MB ? eta -:--:--\n",
      "   - -------------------------------------- 0.3/8.7 MB ? eta -:--:--\n",
      "   --- ------------------------------------ 0.8/8.7 MB 2.4 MB/s eta 0:00:04\n",
      "   ------ --------------------------------- 1.3/8.7 MB 2.0 MB/s eta 0:00:04\n",
      "   ------- -------------------------------- 1.6/8.7 MB 2.0 MB/s eta 0:00:04\n",
      "   --------- ------------------------------ 2.1/8.7 MB 2.0 MB/s eta 0:00:04\n",
      "   ---------- ----------------------------- 2.4/8.7 MB 1.9 MB/s eta 0:00:04\n",
      "   ------------- -------------------------- 2.9/8.7 MB 1.9 MB/s eta 0:00:04\n",
      "   -------------- ------------------------- 3.1/8.7 MB 1.8 MB/s eta 0:00:04\n",
      "   --------------- ------------------------ 3.4/8.7 MB 1.8 MB/s eta 0:00:03\n",
      "   ---------------- ----------------------- 3.7/8.7 MB 1.8 MB/s eta 0:00:03\n",
      "   ------------------ --------------------- 3.9/8.7 MB 1.8 MB/s eta 0:00:03\n",
      "   ------------------- -------------------- 4.2/8.7 MB 1.7 MB/s eta 0:00:03\n",
      "   --------------------- ------------------ 4.7/8.7 MB 1.7 MB/s eta 0:00:03\n",
      "   ---------------------- ----------------- 5.0/8.7 MB 1.7 MB/s eta 0:00:03\n",
      "   ------------------------ --------------- 5.2/8.7 MB 1.7 MB/s eta 0:00:03\n",
      "   -------------------------- ------------- 5.8/8.7 MB 1.7 MB/s eta 0:00:02\n",
      "   --------------------------- ------------ 6.0/8.7 MB 1.7 MB/s eta 0:00:02\n",
      "   ---------------------------- ----------- 6.3/8.7 MB 1.7 MB/s eta 0:00:02\n",
      "   ------------------------------- -------- 6.8/8.7 MB 1.7 MB/s eta 0:00:02\n",
      "   --------------------------------- ------ 7.3/8.7 MB 1.7 MB/s eta 0:00:01\n",
      "   ---------------------------------- ----- 7.6/8.7 MB 1.7 MB/s eta 0:00:01\n",
      "   ------------------------------------- -- 8.1/8.7 MB 1.7 MB/s eta 0:00:01\n",
      "   ---------------------------------------  8.7/8.7 MB 1.8 MB/s eta 0:00:01\n",
      "   ---------------------------------------- 8.7/8.7 MB 1.8 MB/s eta 0:00:00\n",
      "Using cached filetype-1.2.0-py2.py3-none-any.whl (19 kB)\n",
      "Using cached python_dotenv-1.0.1-py3-none-any.whl (19 kB)\n",
      "Using cached requests_toolbelt-1.0.0-py2.py3-none-any.whl (54 kB)\n",
      "Installing collected packages: filetype, python-dotenv, pillow-heif, opencv-python-headless, idna, requests-toolbelt, roboflow\n",
      "  Attempting uninstall: idna\n",
      "    Found existing installation: idna 3.10\n",
      "    Uninstalling idna-3.10:\n",
      "      Successfully uninstalled idna-3.10\n",
      "Successfully installed filetype-1.2.0 idna-3.7 opencv-python-headless-4.10.0.84 pillow-heif-0.21.0 python-dotenv-1.0.1 requests-toolbelt-1.0.0 roboflow-1.1.58\n"
     ]
    },
    {
     "name": "stderr",
     "output_type": "stream",
     "text": [
      "\n",
      "[notice] A new release of pip is available: 24.3.1 -> 25.0.1\n",
      "[notice] To update, run: python.exe -m pip install --upgrade pip\n"
     ]
    }
   ],
   "source": [
    "!pip install ultralytics\n",
    "!pip install roboflow "
   ]
  },
  {
   "cell_type": "code",
   "execution_count": 5,
   "metadata": {},
   "outputs": [
    {
     "name": "stdout",
     "output_type": "stream",
     "text": [
      "Name: roboflow\n",
      "Version: 1.1.58\n",
      "Summary: Official Python package for working with the Roboflow API\n",
      "Home-page: https://github.com/roboflow-ai/roboflow-python\n",
      "Author: Roboflow\n",
      "Author-email: support@roboflow.com\n",
      "License: UNKNOWN\n",
      "Location: e:\\Machine Learning Project\\Football Analysis with YOLO\\venv\\Lib\\site-packages\n",
      "Requires: certifi, cycler, filetype, idna, kiwisolver, matplotlib, numpy, opencv-python-headless, Pillow, pillow-heif, python-dateutil, python-dotenv, PyYAML, requests, requests-toolbelt, six, tqdm, urllib3\n",
      "Required-by: \n",
      "Note: you may need to restart the kernel to use updated packages.\n"
     ]
    }
   ],
   "source": [
    "%pip show roboflow"
   ]
  },
  {
   "cell_type": "markdown",
   "metadata": {},
   "source": [
    "Get Dataset from Roboflow\n"
   ]
  },
  {
   "cell_type": "code",
   "execution_count": null,
   "metadata": {},
   "outputs": [
    {
     "name": "stdout",
     "output_type": "stream",
     "text": [
      "loading Roboflow workspace...\n",
      "loading Roboflow project...\n"
     ]
    },
    {
     "name": "stderr",
     "output_type": "stream",
     "text": [
      "Downloading Dataset Version Zip in football-players-detection-12 to yolov5pytorch:: 100%|██████████| 65763/65763 [10:34<00:00, 103.72it/s]"
     ]
    },
    {
     "name": "stdout",
     "output_type": "stream",
     "text": [
      "\n"
     ]
    },
    {
     "name": "stderr",
     "output_type": "stream",
     "text": [
      "\n",
      "Extracting Dataset Version Zip to football-players-detection-12 in yolov5pytorch:: 100%|██████████| 756/756 [00:00<00:00, 3258.64it/s]\n"
     ]
    }
   ],
   "source": [
    "from roboflow import Roboflow\n",
    "\n",
    "rf = Roboflow(api_key=\"Wq94lNfdvdRuv5CDkbbZ\")\n",
    "project = rf.workspace(\"roboflow-jvuqo\").project(\"football-players-detection-3zvbc\")\n",
    "version = project.version(12)\n",
    "dataset = version.download(\"yolov5\")"
   ]
  },
  {
   "cell_type": "code",
   "execution_count": 7,
   "metadata": {},
   "outputs": [
    {
     "data": {
      "text/plain": [
       "'e:\\\\Machine Learning Project\\\\Football Analysis with YOLO\\\\training\\\\football-players-detection-12'"
      ]
     },
     "execution_count": 7,
     "metadata": {},
     "output_type": "execute_result"
    }
   ],
   "source": [
    "dataset.location"
   ]
  },
  {
   "cell_type": "code",
   "execution_count": 8,
   "metadata": {},
   "outputs": [
    {
     "data": {
      "text/plain": [
       "'football-players-detection-12/football-players-detection-12/valid'"
      ]
     },
     "execution_count": 8,
     "metadata": {},
     "output_type": "execute_result"
    }
   ],
   "source": [
    "import shutil\n",
    "\n",
    "shutil.move(\n",
    "    \"football-players-detection-12/train\",\n",
    "    \"football-players-detection-12/football-players-detection-12/train\",\n",
    ")\n",
    "\n",
    "shutil.move(\n",
    "    \"football-players-detection-12/test\",\n",
    "    \"football-players-detection-12/football-players-detection-12/test\",\n",
    ")\n",
    "\n",
    "shutil.move(\n",
    "    \"football-players-detection-12/valid\",\n",
    "    \"football-players-detection-12/football-players-detection-12/valid\",\n",
    ")"
   ]
  },
  {
   "cell_type": "markdown",
   "metadata": {},
   "source": [
    "Training"
   ]
  },
  {
   "cell_type": "markdown",
   "metadata": {},
   "source": [
    "!yolo task=detect mode=train model=yolov5x.pt data={dataset.location}/data.yaml epochs=100 imgsz=640\n"
   ]
  }
 ],
 "metadata": {
  "kernelspec": {
   "display_name": "venv",
   "language": "python",
   "name": "python3"
  },
  "language_info": {
   "codemirror_mode": {
    "name": "ipython",
    "version": 3
   },
   "file_extension": ".py",
   "mimetype": "text/x-python",
   "name": "python",
   "nbconvert_exporter": "python",
   "pygments_lexer": "ipython3",
   "version": "3.12.8"
  }
 },
 "nbformat": 4,
 "nbformat_minor": 2
}
